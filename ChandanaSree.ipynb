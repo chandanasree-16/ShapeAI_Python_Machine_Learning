{
 "cells": [
  {
   "cell_type": "code",
   "execution_count": 3,
   "metadata": {},
   "outputs": [
    {
     "name": "stdout",
     "output_type": "stream",
     "text": [
      "The model performance for the training set\n",
      "RMSE is\n",
      "\n",
      "\n",
      "The model performance for the testing set\n",
      "RMSE is\n"
     ]
    }
   ],
   "source": [
    "import numpy as np\n",
    "import pandas as pd\n",
    "import sklearn\n",
    "from sklearn.datasets import load_boston\n",
    "df=load_boston()\n",
    "boston=pd.DataFrame(df.data, columns=df.feature_names)\n",
    "boston['MEDV']= df.target\n",
    "from sklearn.model_selection import train_test_split\n",
    "X=boston.drop('MEDV', axis=1)\n",
    "Y=boston['MEDV']\n",
    "X_train, X_test, Y_train, Y_test=train_test_split(X,Y, test_size=0.15, random_state=5)\n",
    "from sklearn.linear_model import LinearRegression\n",
    "from sklearn.metrics import mean_squared_error\n",
    "lin_model=LinearRegression()\n",
    "lin_model.fit(X_train, Y_train)\n",
    "y_train_predict=lin_model.predict(X_train)\n",
    "rmse=(np.sqrt(mean_squared_error(Y_train, y_train_predict)))\n",
    "print(\"The model performance for the training set\")\n",
    "print('RMSE is',format(rmse))\n",
    "print(\"\\n\")\n",
    "y_test_predict=lin_model.predict(X_test)\n",
    "rmse=(np.sqrt(mean_squared_error(Y_test, y_test_predict)))\n",
    "print(\"The model performance for the testing set\")\n",
    "print('RMSE is',format(rmse))"
   ]
  },
  {
   "cell_type": "code",
   "execution_count": null,
   "metadata": {},
   "outputs": [],
   "source": []
  },
  {
   "cell_type": "code",
   "execution_count": null,
   "metadata": {},
   "outputs": [],
   "source": []
  }
 ],
 "metadata": {
  "kernelspec": {
   "display_name": "Python 3",
   "language": "python",
   "name": "python3"
  },
  "language_info": {
   "codemirror_mode": {
    "name": "ipython",
    "version": 3
   },
   "file_extension": ".py",
   "mimetype": "text/x-python",
   "name": "python",
   "nbconvert_exporter": "python",
   "pygments_lexer": "ipython3",
   "version": "3.8.5"
  }
 },
 "nbformat": 4,
 "nbformat_minor": 4
}
